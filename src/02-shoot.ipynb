{
 "cells": [
  {
   "cell_type": "markdown",
   "metadata": {},
   "source": [
    "# 枪击事件与疫情"
   ]
  },
  {
   "cell_type": "markdown",
   "metadata": {},
   "source": [
    "## 疫情数据可视化\n",
    "\n",
    "疫情是我从高中到大学一个迈不开的话题，所以全球变革的第一个话题我选择了疫情。\n",
    "\n",
    "我从这里获得了数据[COVID-19 Data Collection](https://dataverse.harvard.edu/dataverse/covid19)\n",
    "\n",
    "![](../assets/co.png)\n",
    "\n",
    "我将确诊病例和死亡病例做了可视化，按照时间做成了动图放在了下面的网站里面，如果notebook渲染不出来的话，也可以点击[链接](https://prod-apnortheast-a.online.tableau.com/t/3220104373-2606bd1a62/views/02-covid/1/55b029fc-3a67-40ad-a906-44dc3b08e29a/740095ce-8397-4879-af74-7e4db31f6116)进行查看。 \n",
    "\n",
    "<script type='module' src='https://prod-apnortheast-a.online.tableau.com/javascripts/api/tableau.embedding.3.latest.min.js'></script><tableau-viz id='tableau-viz' src='https://prod-apnortheast-a.online.tableau.com/t/3220104373-2606bd1a62/views/02-covid/1/55b029fc-3a67-40ad-a906-44dc3b08e29a/740095ce-8397-4879-af74-7e4db31f6116' width='1000' height='840' hide-tabs toolbar='bottom' ></tableau-viz>"
   ]
  },
  {
   "cell_type": "markdown",
   "metadata": {},
   "source": [
    "## 枪击事件数据可视化\n",
    "\n",
    "### 数据来源\n",
    "- 飞桨AI [美国警察枪击统计\\_数据集-飞桨AI Studio星河社区](https://aistudio.baidu.com/datasetdetail/106650/0)\n",
    "- [Gun Deaths in the US: 2006 - 2020](https://www.kaggle.com/datasets/konradb/gun-deaths-in-the-us-1968-2021/data)\n",
    "- [Gun Violence, USA](https://www.kaggle.com/datasets/eimadevyni/shooting-1982-2023-cleaned/code)\n",
    "- [Gun Deaths in the US: 2006 - 2020](https://www.kaggle.com/datasets/konradb/gun-deaths-in-the-us-1968-2021/data)\n",
    "- [Gun Violence Data](https://www.kaggle.com/datasets/jameslko/gun-violence-data/data)\n",
    "- [全球各国人均枪支数量排名,美国人均一把(3.9亿把)\\_排行榜123网](https://www.phb123.com/shijiezhizui/guojia/31416.html)\n",
    "- [按多种死因划分的临时死亡率](https://wonder.cdc.gov/wonder/help/mcd-provisional.html#)\n",
    "\n",
    "### 数据呈现\n",
    "\n",
    "这部分我也主要使用了Tableau作为可视化的工具\n",
    "\n",
    "第一部分是按照重大枪击事件进行统计，可以看到受伤人数随着时间呈现上升趋势，在2017年达到了峰值\n",
    "\n",
    "学校和办公场所是发生枪击事件最多的地方。\n",
    "\n",
    "![](../assets/shoot.png)\n",
    "\n",
    "\n",
    "下面放出了放在网页上的Tableau看板\n",
    "<script type='module' src='https://prod-apnortheast-a.online.tableau.com/javascripts/api/tableau.embedding.3.latest.min.js'></script><tableau-viz id='tableau-viz' src='https://prod-apnortheast-a.online.tableau.com/t/3220104373-2606bd1a62/views/01-shoot/sheet6' width='1000' height='840' hide-tabs toolbar='bottom' ></tableau-viz>"
   ]
  }
 ],
 "metadata": {
  "kernelspec": {
   "display_name": "ml",
   "language": "python",
   "name": "python3"
  },
  "language_info": {
   "name": "python",
   "version": "3.9.19"
  }
 },
 "nbformat": 4,
 "nbformat_minor": 2
}
